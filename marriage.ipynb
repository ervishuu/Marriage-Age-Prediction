{
  "nbformat": 4,
  "nbformat_minor": 0,
  "metadata": {
    "colab": {
      "name": "marriage.ipynb",
      "provenance": [],
      "collapsed_sections": []
    },
    "kernelspec": {
      "name": "python3",
      "display_name": "Python 3"
    },
    "accelerator": "GPU"
  },
  "cells": [
    {
      "cell_type": "code",
      "metadata": {
        "id": "Y-X8Ycfbz-zb",
        "colab_type": "code",
        "colab": {}
      },
      "source": [
        "import pandas as pd\n",
        "import numpy as np"
      ],
      "execution_count": 1,
      "outputs": []
    },
    {
      "cell_type": "code",
      "metadata": {
        "id": "ve2rWR020PD4",
        "colab_type": "code",
        "colab": {
          "base_uri": "https://localhost:8080/",
          "height": 316
        },
        "outputId": "dbf3fb10-9b13-41cd-c0da-8077c1980dd7"
      },
      "source": [
        "data = pd.read_csv(\"age_of_marriage_data.csv\")\n",
        "data.head()"
      ],
      "execution_count": 2,
      "outputs": [
        {
          "output_type": "execute_result",
          "data": {
            "text/html": [
              "<div>\n",
              "<style scoped>\n",
              "    .dataframe tbody tr th:only-of-type {\n",
              "        vertical-align: middle;\n",
              "    }\n",
              "\n",
              "    .dataframe tbody tr th {\n",
              "        vertical-align: top;\n",
              "    }\n",
              "\n",
              "    .dataframe thead th {\n",
              "        text-align: right;\n",
              "    }\n",
              "</style>\n",
              "<table border=\"1\" class=\"dataframe\">\n",
              "  <thead>\n",
              "    <tr style=\"text-align: right;\">\n",
              "      <th></th>\n",
              "      <th>id</th>\n",
              "      <th>gender</th>\n",
              "      <th>height</th>\n",
              "      <th>religion</th>\n",
              "      <th>caste</th>\n",
              "      <th>mother_tongue</th>\n",
              "      <th>profession</th>\n",
              "      <th>location</th>\n",
              "      <th>country</th>\n",
              "      <th>age_of_marriage</th>\n",
              "    </tr>\n",
              "  </thead>\n",
              "  <tbody>\n",
              "    <tr>\n",
              "      <th>0</th>\n",
              "      <td>1</td>\n",
              "      <td>female</td>\n",
              "      <td>5'4\"</td>\n",
              "      <td>NaN</td>\n",
              "      <td>others</td>\n",
              "      <td>Telugu</td>\n",
              "      <td>NaN</td>\n",
              "      <td>London</td>\n",
              "      <td>United Kingdom</td>\n",
              "      <td>21.0</td>\n",
              "    </tr>\n",
              "    <tr>\n",
              "      <th>1</th>\n",
              "      <td>2</td>\n",
              "      <td>male</td>\n",
              "      <td>5'7\"</td>\n",
              "      <td>Jain</td>\n",
              "      <td>Shwetamber</td>\n",
              "      <td>Gujarati</td>\n",
              "      <td>Doctor / Healthcare Professional</td>\n",
              "      <td>Fairfax- VA</td>\n",
              "      <td>USA</td>\n",
              "      <td>32.0</td>\n",
              "    </tr>\n",
              "    <tr>\n",
              "      <th>2</th>\n",
              "      <td>3</td>\n",
              "      <td>male</td>\n",
              "      <td>5'7\"</td>\n",
              "      <td>Hindu</td>\n",
              "      <td>Brahmin</td>\n",
              "      <td>Hindi</td>\n",
              "      <td>Entrepreneurs / Business</td>\n",
              "      <td>Begusarai</td>\n",
              "      <td>India</td>\n",
              "      <td>32.0</td>\n",
              "    </tr>\n",
              "    <tr>\n",
              "      <th>3</th>\n",
              "      <td>4</td>\n",
              "      <td>female</td>\n",
              "      <td>5'0\"</td>\n",
              "      <td>Hindu</td>\n",
              "      <td>Thakur</td>\n",
              "      <td>Hindi</td>\n",
              "      <td>Architect</td>\n",
              "      <td>Mumbai</td>\n",
              "      <td>India</td>\n",
              "      <td>30.0</td>\n",
              "    </tr>\n",
              "    <tr>\n",
              "      <th>4</th>\n",
              "      <td>5</td>\n",
              "      <td>male</td>\n",
              "      <td>5'5\"</td>\n",
              "      <td>Christian</td>\n",
              "      <td>Born Again</td>\n",
              "      <td>Malayalam</td>\n",
              "      <td>Sales Professional / Marketing</td>\n",
              "      <td>Sulthan Bathery</td>\n",
              "      <td>India</td>\n",
              "      <td>30.0</td>\n",
              "    </tr>\n",
              "  </tbody>\n",
              "</table>\n",
              "</div>"
            ],
            "text/plain": [
              "   id  gender height  ...         location          country age_of_marriage\n",
              "0   1  female   5'4\"  ...           London   United Kingdom            21.0\n",
              "1   2    male   5'7\"  ...      Fairfax- VA              USA            32.0\n",
              "2   3    male   5'7\"  ...        Begusarai            India            32.0\n",
              "3   4  female   5'0\"  ...           Mumbai            India            30.0\n",
              "4   5    male   5'5\"  ...  Sulthan Bathery            India            30.0\n",
              "\n",
              "[5 rows x 10 columns]"
            ]
          },
          "metadata": {
            "tags": []
          },
          "execution_count": 2
        }
      ]
    },
    {
      "cell_type": "code",
      "metadata": {
        "id": "g5-JHvjz0Q87",
        "colab_type": "code",
        "colab": {
          "base_uri": "https://localhost:8080/",
          "height": 202
        },
        "outputId": "56a0735d-112e-4a82-85bb-3e2ee202b4c4"
      },
      "source": [
        "data.isnull().sum()"
      ],
      "execution_count": 3,
      "outputs": [
        {
          "output_type": "execute_result",
          "data": {
            "text/plain": [
              "id                   0\n",
              "gender              29\n",
              "height             118\n",
              "religion           635\n",
              "caste              142\n",
              "mother_tongue      164\n",
              "profession         330\n",
              "location           155\n",
              "country             16\n",
              "age_of_marriage     19\n",
              "dtype: int64"
            ]
          },
          "metadata": {
            "tags": []
          },
          "execution_count": 3
        }
      ]
    },
    {
      "cell_type": "code",
      "metadata": {
        "id": "i7TpJGql0ThA",
        "colab_type": "code",
        "colab": {
          "base_uri": "https://localhost:8080/",
          "height": 302
        },
        "outputId": "ad692cdd-fc64-41cf-b6da-06f6ba6b01ab"
      },
      "source": [
        "data.info()"
      ],
      "execution_count": 4,
      "outputs": [
        {
          "output_type": "stream",
          "text": [
            "<class 'pandas.core.frame.DataFrame'>\n",
            "RangeIndex: 2567 entries, 0 to 2566\n",
            "Data columns (total 10 columns):\n",
            " #   Column           Non-Null Count  Dtype  \n",
            "---  ------           --------------  -----  \n",
            " 0   id               2567 non-null   int64  \n",
            " 1   gender           2538 non-null   object \n",
            " 2   height           2449 non-null   object \n",
            " 3   religion         1932 non-null   object \n",
            " 4   caste            2425 non-null   object \n",
            " 5   mother_tongue    2403 non-null   object \n",
            " 6   profession       2237 non-null   object \n",
            " 7   location         2412 non-null   object \n",
            " 8   country          2551 non-null   object \n",
            " 9   age_of_marriage  2548 non-null   float64\n",
            "dtypes: float64(1), int64(1), object(8)\n",
            "memory usage: 200.7+ KB\n"
          ],
          "name": "stdout"
        }
      ]
    },
    {
      "cell_type": "code",
      "metadata": {
        "id": "IYUbY36o0VUg",
        "colab_type": "code",
        "colab": {
          "base_uri": "https://localhost:8080/",
          "height": 34
        },
        "outputId": "4164b9e0-057d-4924-cb78-70308a619971"
      },
      "source": [
        "(data.shape[0] - data.dropna().shape[0])/data.shape[0]"
      ],
      "execution_count": 5,
      "outputs": [
        {
          "output_type": "execute_result",
          "data": {
            "text/plain": [
              "0.24737047136735488"
            ]
          },
          "metadata": {
            "tags": []
          },
          "execution_count": 5
        }
      ]
    },
    {
      "cell_type": "code",
      "metadata": {
        "id": "It9O51PD0X7j",
        "colab_type": "code",
        "colab": {}
      },
      "source": [
        "data.dropna(inplace=True)"
      ],
      "execution_count": 6,
      "outputs": []
    },
    {
      "cell_type": "code",
      "metadata": {
        "id": "dnr_Kbre0ZuN",
        "colab_type": "code",
        "colab": {
          "base_uri": "https://localhost:8080/",
          "height": 34
        },
        "outputId": "e2d60560-af56-4123-e0d7-c31e5bfdea71"
      },
      "source": [
        "data.shape\n"
      ],
      "execution_count": 7,
      "outputs": [
        {
          "output_type": "execute_result",
          "data": {
            "text/plain": [
              "(1932, 10)"
            ]
          },
          "metadata": {
            "tags": []
          },
          "execution_count": 7
        }
      ]
    },
    {
      "cell_type": "code",
      "metadata": {
        "id": "ksHc9K9k0cge",
        "colab_type": "code",
        "colab": {
          "base_uri": "https://localhost:8080/",
          "height": 548
        },
        "outputId": "556770d3-092e-428b-b5de-ada150a2b02a"
      },
      "source": [
        "data.head(10)"
      ],
      "execution_count": 8,
      "outputs": [
        {
          "output_type": "execute_result",
          "data": {
            "text/html": [
              "<div>\n",
              "<style scoped>\n",
              "    .dataframe tbody tr th:only-of-type {\n",
              "        vertical-align: middle;\n",
              "    }\n",
              "\n",
              "    .dataframe tbody tr th {\n",
              "        vertical-align: top;\n",
              "    }\n",
              "\n",
              "    .dataframe thead th {\n",
              "        text-align: right;\n",
              "    }\n",
              "</style>\n",
              "<table border=\"1\" class=\"dataframe\">\n",
              "  <thead>\n",
              "    <tr style=\"text-align: right;\">\n",
              "      <th></th>\n",
              "      <th>id</th>\n",
              "      <th>gender</th>\n",
              "      <th>height</th>\n",
              "      <th>religion</th>\n",
              "      <th>caste</th>\n",
              "      <th>mother_tongue</th>\n",
              "      <th>profession</th>\n",
              "      <th>location</th>\n",
              "      <th>country</th>\n",
              "      <th>age_of_marriage</th>\n",
              "    </tr>\n",
              "  </thead>\n",
              "  <tbody>\n",
              "    <tr>\n",
              "      <th>1</th>\n",
              "      <td>2</td>\n",
              "      <td>male</td>\n",
              "      <td>5'7\"</td>\n",
              "      <td>Jain</td>\n",
              "      <td>Shwetamber</td>\n",
              "      <td>Gujarati</td>\n",
              "      <td>Doctor / Healthcare Professional</td>\n",
              "      <td>Fairfax- VA</td>\n",
              "      <td>USA</td>\n",
              "      <td>32.0</td>\n",
              "    </tr>\n",
              "    <tr>\n",
              "      <th>2</th>\n",
              "      <td>3</td>\n",
              "      <td>male</td>\n",
              "      <td>5'7\"</td>\n",
              "      <td>Hindu</td>\n",
              "      <td>Brahmin</td>\n",
              "      <td>Hindi</td>\n",
              "      <td>Entrepreneurs / Business</td>\n",
              "      <td>Begusarai</td>\n",
              "      <td>India</td>\n",
              "      <td>32.0</td>\n",
              "    </tr>\n",
              "    <tr>\n",
              "      <th>3</th>\n",
              "      <td>4</td>\n",
              "      <td>female</td>\n",
              "      <td>5'0\"</td>\n",
              "      <td>Hindu</td>\n",
              "      <td>Thakur</td>\n",
              "      <td>Hindi</td>\n",
              "      <td>Architect</td>\n",
              "      <td>Mumbai</td>\n",
              "      <td>India</td>\n",
              "      <td>30.0</td>\n",
              "    </tr>\n",
              "    <tr>\n",
              "      <th>4</th>\n",
              "      <td>5</td>\n",
              "      <td>male</td>\n",
              "      <td>5'5\"</td>\n",
              "      <td>Christian</td>\n",
              "      <td>Born Again</td>\n",
              "      <td>Malayalam</td>\n",
              "      <td>Sales Professional / Marketing</td>\n",
              "      <td>Sulthan Bathery</td>\n",
              "      <td>India</td>\n",
              "      <td>30.0</td>\n",
              "    </tr>\n",
              "    <tr>\n",
              "      <th>5</th>\n",
              "      <td>6</td>\n",
              "      <td>male</td>\n",
              "      <td>5'5\"</td>\n",
              "      <td>Hindu</td>\n",
              "      <td>Valmiki</td>\n",
              "      <td>Hindi</td>\n",
              "      <td>Sportsman</td>\n",
              "      <td>Delhi</td>\n",
              "      <td>India</td>\n",
              "      <td>29.0</td>\n",
              "    </tr>\n",
              "    <tr>\n",
              "      <th>6</th>\n",
              "      <td>7</td>\n",
              "      <td>female</td>\n",
              "      <td>5'2\"</td>\n",
              "      <td>Hindu</td>\n",
              "      <td>Rajput - Lodhi</td>\n",
              "      <td>Hindi</td>\n",
              "      <td>Banking Professional</td>\n",
              "      <td>Jodhpur</td>\n",
              "      <td>India</td>\n",
              "      <td>28.0</td>\n",
              "    </tr>\n",
              "    <tr>\n",
              "      <th>7</th>\n",
              "      <td>8</td>\n",
              "      <td>male</td>\n",
              "      <td>5'5\"</td>\n",
              "      <td>Hindu</td>\n",
              "      <td>Bhatia</td>\n",
              "      <td>Punjabi</td>\n",
              "      <td>Entrepreneurs / Business</td>\n",
              "      <td>Faridabad</td>\n",
              "      <td>India</td>\n",
              "      <td>30.0</td>\n",
              "    </tr>\n",
              "    <tr>\n",
              "      <th>8</th>\n",
              "      <td>9</td>\n",
              "      <td>female</td>\n",
              "      <td>5'5\"</td>\n",
              "      <td>Jain</td>\n",
              "      <td>Shwetamber</td>\n",
              "      <td>Gujarati</td>\n",
              "      <td>Software Professional</td>\n",
              "      <td>Vadodara</td>\n",
              "      <td>India</td>\n",
              "      <td>35.0</td>\n",
              "    </tr>\n",
              "    <tr>\n",
              "      <th>9</th>\n",
              "      <td>10</td>\n",
              "      <td>female</td>\n",
              "      <td>5'1\"</td>\n",
              "      <td>Hindu</td>\n",
              "      <td>Billava</td>\n",
              "      <td>Tulu</td>\n",
              "      <td>HR Professional</td>\n",
              "      <td>Bengaluru / Bangalore</td>\n",
              "      <td>India</td>\n",
              "      <td>32.0</td>\n",
              "    </tr>\n",
              "    <tr>\n",
              "      <th>11</th>\n",
              "      <td>12</td>\n",
              "      <td>male</td>\n",
              "      <td>5'9\"</td>\n",
              "      <td>Hindu</td>\n",
              "      <td>Brahmin</td>\n",
              "      <td>Bengali</td>\n",
              "      <td>Finance Professional</td>\n",
              "      <td>Suri</td>\n",
              "      <td>India</td>\n",
              "      <td>32.0</td>\n",
              "    </tr>\n",
              "  </tbody>\n",
              "</table>\n",
              "</div>"
            ],
            "text/plain": [
              "    id  gender height  ...               location country age_of_marriage\n",
              "1    2    male   5'7\"  ...            Fairfax- VA     USA            32.0\n",
              "2    3    male   5'7\"  ...              Begusarai   India            32.0\n",
              "3    4  female   5'0\"  ...                 Mumbai   India            30.0\n",
              "4    5    male   5'5\"  ...        Sulthan Bathery   India            30.0\n",
              "5    6    male   5'5\"  ...                  Delhi   India            29.0\n",
              "6    7  female   5'2\"  ...                Jodhpur   India            28.0\n",
              "7    8    male   5'5\"  ...              Faridabad   India            30.0\n",
              "8    9  female   5'5\"  ...               Vadodara   India            35.0\n",
              "9   10  female   5'1\"  ...  Bengaluru / Bangalore   India            32.0\n",
              "11  12    male   5'9\"  ...                   Suri   India            32.0\n",
              "\n",
              "[10 rows x 10 columns]"
            ]
          },
          "metadata": {
            "tags": []
          },
          "execution_count": 8
        }
      ]
    },
    {
      "cell_type": "code",
      "metadata": {
        "id": "W_In0p1c0eaO",
        "colab_type": "code",
        "colab": {}
      },
      "source": [
        "from sklearn.preprocessing import LabelEncoder"
      ],
      "execution_count": 9,
      "outputs": []
    },
    {
      "cell_type": "code",
      "metadata": {
        "id": "zJw-34Kl0qxW",
        "colab_type": "code",
        "colab": {}
      },
      "source": [
        "real_x = data.loc[:,['gender','height','religion','caste','mother_tongue','country']]\n",
        "real_y = data.age_of_marriage"
      ],
      "execution_count": 11,
      "outputs": []
    },
    {
      "cell_type": "code",
      "metadata": {
        "id": "LVwXqfkl0hD5",
        "colab_type": "code",
        "colab": {}
      },
      "source": [
        "encoder = LabelEncoder()\n",
        "real_x.loc[: , ['gender',\t'religion',\t'caste',\t'mother_tongue'\t,'country']] =\\\n",
        "real_x.loc[: , ['gender',\t\t'religion',\t'caste',\t'mother_tongue'\t,'country']].apply(encoder.fit_transform)\n"
      ],
      "execution_count": 12,
      "outputs": []
    },
    {
      "cell_type": "code",
      "metadata": {
        "id": "qZzA3MeO0mbQ",
        "colab_type": "code",
        "colab": {
          "base_uri": "https://localhost:8080/",
          "height": 195
        },
        "outputId": "98cc6dae-adc3-47f8-b4ab-38f462ef1a6a"
      },
      "source": [
        "real_x.head()"
      ],
      "execution_count": 13,
      "outputs": [
        {
          "output_type": "execute_result",
          "data": {
            "text/html": [
              "<div>\n",
              "<style scoped>\n",
              "    .dataframe tbody tr th:only-of-type {\n",
              "        vertical-align: middle;\n",
              "    }\n",
              "\n",
              "    .dataframe tbody tr th {\n",
              "        vertical-align: top;\n",
              "    }\n",
              "\n",
              "    .dataframe thead th {\n",
              "        text-align: right;\n",
              "    }\n",
              "</style>\n",
              "<table border=\"1\" class=\"dataframe\">\n",
              "  <thead>\n",
              "    <tr style=\"text-align: right;\">\n",
              "      <th></th>\n",
              "      <th>gender</th>\n",
              "      <th>height</th>\n",
              "      <th>religion</th>\n",
              "      <th>caste</th>\n",
              "      <th>mother_tongue</th>\n",
              "      <th>country</th>\n",
              "    </tr>\n",
              "  </thead>\n",
              "  <tbody>\n",
              "    <tr>\n",
              "      <th>1</th>\n",
              "      <td>1</td>\n",
              "      <td>5'7\"</td>\n",
              "      <td>2</td>\n",
              "      <td>34</td>\n",
              "      <td>6</td>\n",
              "      <td>19</td>\n",
              "    </tr>\n",
              "    <tr>\n",
              "      <th>2</th>\n",
              "      <td>1</td>\n",
              "      <td>5'7\"</td>\n",
              "      <td>1</td>\n",
              "      <td>14</td>\n",
              "      <td>8</td>\n",
              "      <td>5</td>\n",
              "    </tr>\n",
              "    <tr>\n",
              "      <th>3</th>\n",
              "      <td>0</td>\n",
              "      <td>5'0\"</td>\n",
              "      <td>1</td>\n",
              "      <td>36</td>\n",
              "      <td>8</td>\n",
              "      <td>5</td>\n",
              "    </tr>\n",
              "    <tr>\n",
              "      <th>4</th>\n",
              "      <td>1</td>\n",
              "      <td>5'5\"</td>\n",
              "      <td>0</td>\n",
              "      <td>13</td>\n",
              "      <td>13</td>\n",
              "      <td>5</td>\n",
              "    </tr>\n",
              "    <tr>\n",
              "      <th>5</th>\n",
              "      <td>1</td>\n",
              "      <td>5'5\"</td>\n",
              "      <td>1</td>\n",
              "      <td>38</td>\n",
              "      <td>8</td>\n",
              "      <td>5</td>\n",
              "    </tr>\n",
              "  </tbody>\n",
              "</table>\n",
              "</div>"
            ],
            "text/plain": [
              "  gender height religion caste mother_tongue country\n",
              "1      1   5'7\"        2    34             6      19\n",
              "2      1   5'7\"        1    14             8       5\n",
              "3      0   5'0\"        1    36             8       5\n",
              "4      1   5'5\"        0    13            13       5\n",
              "5      1   5'5\"        1    38             8       5"
            ]
          },
          "metadata": {
            "tags": []
          },
          "execution_count": 13
        }
      ]
    },
    {
      "cell_type": "code",
      "metadata": {
        "id": "hV6Fsa5d0ue_",
        "colab_type": "code",
        "colab": {
          "base_uri": "https://localhost:8080/",
          "height": 34
        },
        "outputId": "4591d461-41d9-4ff2-ed65-b3cf066a4881"
      },
      "source": [
        "int(real_x.loc[1,'height'].split('\\'')[0])*30.48"
      ],
      "execution_count": 15,
      "outputs": [
        {
          "output_type": "execute_result",
          "data": {
            "text/plain": [
              "152.4"
            ]
          },
          "metadata": {
            "tags": []
          },
          "execution_count": 15
        }
      ]
    },
    {
      "cell_type": "code",
      "metadata": {
        "id": "yz8Gv5Jz00L7",
        "colab_type": "code",
        "colab": {
          "base_uri": "https://localhost:8080/",
          "height": 34
        },
        "outputId": "0d4d5ced-37c1-46cb-9aac-6d26d81c0aef"
      },
      "source": [
        "int(real_x.loc[1,'height'].split('\\'')[1].replace('\"',''))*2.54"
      ],
      "execution_count": 16,
      "outputs": [
        {
          "output_type": "execute_result",
          "data": {
            "text/plain": [
              "17.78"
            ]
          },
          "metadata": {
            "tags": []
          },
          "execution_count": 16
        }
      ]
    },
    {
      "cell_type": "code",
      "metadata": {
        "id": "ot3itP7P08OW",
        "colab_type": "code",
        "colab": {}
      },
      "source": [
        "def h_cms(h):\n",
        "    return int(h.split('\\'')[0])*30.48+\\\n",
        "    int(h.split('\\'')[1].replace('\"',''))*2.54"
      ],
      "execution_count": 17,
      "outputs": []
    },
    {
      "cell_type": "code",
      "metadata": {
        "id": "vyLr_MKT1ENw",
        "colab_type": "code",
        "colab": {}
      },
      "source": [
        "real_x['height_cms'] = real_x.height.apply(h_cms)"
      ],
      "execution_count": 18,
      "outputs": []
    },
    {
      "cell_type": "code",
      "metadata": {
        "id": "Whd7Db0b1KSC",
        "colab_type": "code",
        "colab": {
          "base_uri": "https://localhost:8080/",
          "height": 195
        },
        "outputId": "1a83625d-3cdb-4f33-b9fd-fb3509a77a24"
      },
      "source": [
        "real_x.head()"
      ],
      "execution_count": 19,
      "outputs": [
        {
          "output_type": "execute_result",
          "data": {
            "text/html": [
              "<div>\n",
              "<style scoped>\n",
              "    .dataframe tbody tr th:only-of-type {\n",
              "        vertical-align: middle;\n",
              "    }\n",
              "\n",
              "    .dataframe tbody tr th {\n",
              "        vertical-align: top;\n",
              "    }\n",
              "\n",
              "    .dataframe thead th {\n",
              "        text-align: right;\n",
              "    }\n",
              "</style>\n",
              "<table border=\"1\" class=\"dataframe\">\n",
              "  <thead>\n",
              "    <tr style=\"text-align: right;\">\n",
              "      <th></th>\n",
              "      <th>gender</th>\n",
              "      <th>height</th>\n",
              "      <th>religion</th>\n",
              "      <th>caste</th>\n",
              "      <th>mother_tongue</th>\n",
              "      <th>country</th>\n",
              "      <th>height_cms</th>\n",
              "    </tr>\n",
              "  </thead>\n",
              "  <tbody>\n",
              "    <tr>\n",
              "      <th>1</th>\n",
              "      <td>1</td>\n",
              "      <td>5'7\"</td>\n",
              "      <td>2</td>\n",
              "      <td>34</td>\n",
              "      <td>6</td>\n",
              "      <td>19</td>\n",
              "      <td>170.18</td>\n",
              "    </tr>\n",
              "    <tr>\n",
              "      <th>2</th>\n",
              "      <td>1</td>\n",
              "      <td>5'7\"</td>\n",
              "      <td>1</td>\n",
              "      <td>14</td>\n",
              "      <td>8</td>\n",
              "      <td>5</td>\n",
              "      <td>170.18</td>\n",
              "    </tr>\n",
              "    <tr>\n",
              "      <th>3</th>\n",
              "      <td>0</td>\n",
              "      <td>5'0\"</td>\n",
              "      <td>1</td>\n",
              "      <td>36</td>\n",
              "      <td>8</td>\n",
              "      <td>5</td>\n",
              "      <td>152.40</td>\n",
              "    </tr>\n",
              "    <tr>\n",
              "      <th>4</th>\n",
              "      <td>1</td>\n",
              "      <td>5'5\"</td>\n",
              "      <td>0</td>\n",
              "      <td>13</td>\n",
              "      <td>13</td>\n",
              "      <td>5</td>\n",
              "      <td>165.10</td>\n",
              "    </tr>\n",
              "    <tr>\n",
              "      <th>5</th>\n",
              "      <td>1</td>\n",
              "      <td>5'5\"</td>\n",
              "      <td>1</td>\n",
              "      <td>38</td>\n",
              "      <td>8</td>\n",
              "      <td>5</td>\n",
              "      <td>165.10</td>\n",
              "    </tr>\n",
              "  </tbody>\n",
              "</table>\n",
              "</div>"
            ],
            "text/plain": [
              "  gender height religion caste mother_tongue country  height_cms\n",
              "1      1   5'7\"        2    34             6      19      170.18\n",
              "2      1   5'7\"        1    14             8       5      170.18\n",
              "3      0   5'0\"        1    36             8       5      152.40\n",
              "4      1   5'5\"        0    13            13       5      165.10\n",
              "5      1   5'5\"        1    38             8       5      165.10"
            ]
          },
          "metadata": {
            "tags": []
          },
          "execution_count": 19
        }
      ]
    },
    {
      "cell_type": "code",
      "metadata": {
        "id": "jxQcNieX1JQV",
        "colab_type": "code",
        "colab": {}
      },
      "source": [
        "real_x.drop('height',inplace=True,axis=1)"
      ],
      "execution_count": 20,
      "outputs": []
    },
    {
      "cell_type": "code",
      "metadata": {
        "id": "eB9qQKtO1R__",
        "colab_type": "code",
        "colab": {
          "base_uri": "https://localhost:8080/",
          "height": 195
        },
        "outputId": "4e7dc64d-0f86-430b-e31a-5a9d7a1fafa0"
      },
      "source": [
        "real_x.head()"
      ],
      "execution_count": 21,
      "outputs": [
        {
          "output_type": "execute_result",
          "data": {
            "text/html": [
              "<div>\n",
              "<style scoped>\n",
              "    .dataframe tbody tr th:only-of-type {\n",
              "        vertical-align: middle;\n",
              "    }\n",
              "\n",
              "    .dataframe tbody tr th {\n",
              "        vertical-align: top;\n",
              "    }\n",
              "\n",
              "    .dataframe thead th {\n",
              "        text-align: right;\n",
              "    }\n",
              "</style>\n",
              "<table border=\"1\" class=\"dataframe\">\n",
              "  <thead>\n",
              "    <tr style=\"text-align: right;\">\n",
              "      <th></th>\n",
              "      <th>gender</th>\n",
              "      <th>religion</th>\n",
              "      <th>caste</th>\n",
              "      <th>mother_tongue</th>\n",
              "      <th>country</th>\n",
              "      <th>height_cms</th>\n",
              "    </tr>\n",
              "  </thead>\n",
              "  <tbody>\n",
              "    <tr>\n",
              "      <th>1</th>\n",
              "      <td>1</td>\n",
              "      <td>2</td>\n",
              "      <td>34</td>\n",
              "      <td>6</td>\n",
              "      <td>19</td>\n",
              "      <td>170.18</td>\n",
              "    </tr>\n",
              "    <tr>\n",
              "      <th>2</th>\n",
              "      <td>1</td>\n",
              "      <td>1</td>\n",
              "      <td>14</td>\n",
              "      <td>8</td>\n",
              "      <td>5</td>\n",
              "      <td>170.18</td>\n",
              "    </tr>\n",
              "    <tr>\n",
              "      <th>3</th>\n",
              "      <td>0</td>\n",
              "      <td>1</td>\n",
              "      <td>36</td>\n",
              "      <td>8</td>\n",
              "      <td>5</td>\n",
              "      <td>152.40</td>\n",
              "    </tr>\n",
              "    <tr>\n",
              "      <th>4</th>\n",
              "      <td>1</td>\n",
              "      <td>0</td>\n",
              "      <td>13</td>\n",
              "      <td>13</td>\n",
              "      <td>5</td>\n",
              "      <td>165.10</td>\n",
              "    </tr>\n",
              "    <tr>\n",
              "      <th>5</th>\n",
              "      <td>1</td>\n",
              "      <td>1</td>\n",
              "      <td>38</td>\n",
              "      <td>8</td>\n",
              "      <td>5</td>\n",
              "      <td>165.10</td>\n",
              "    </tr>\n",
              "  </tbody>\n",
              "</table>\n",
              "</div>"
            ],
            "text/plain": [
              "  gender religion caste mother_tongue country  height_cms\n",
              "1      1        2    34             6      19      170.18\n",
              "2      1        1    14             8       5      170.18\n",
              "3      0        1    36             8       5      152.40\n",
              "4      1        0    13            13       5      165.10\n",
              "5      1        1    38             8       5      165.10"
            ]
          },
          "metadata": {
            "tags": []
          },
          "execution_count": 21
        }
      ]
    },
    {
      "cell_type": "code",
      "metadata": {
        "id": "06sJoPwP1UGa",
        "colab_type": "code",
        "colab": {}
      },
      "source": [
        "from sklearn.model_selection import train_test_split\n",
        "X_train,X_test,y_train,y_test = train_test_split(real_x,real_y,test_size=0.2,random_state=0)"
      ],
      "execution_count": 23,
      "outputs": []
    },
    {
      "cell_type": "code",
      "metadata": {
        "id": "uE5z4nUG1XO1",
        "colab_type": "code",
        "colab": {}
      },
      "source": [
        "from sklearn.ensemble import RandomForestRegressor\n",
        "model = RandomForestRegressor(n_estimators=80,max_depth=11)\n",
        "model.fit(X_train,y_train)\n",
        "y_predict = model.predict(X_test)"
      ],
      "execution_count": 24,
      "outputs": []
    },
    {
      "cell_type": "code",
      "metadata": {
        "id": "nqbsU3gN1gb_",
        "colab_type": "code",
        "colab": {
          "base_uri": "https://localhost:8080/",
          "height": 1000
        },
        "outputId": "b8c35d14-fc4d-494a-f5c6-9638ef88e541"
      },
      "source": [
        "y_predict"
      ],
      "execution_count": 25,
      "outputs": [
        {
          "output_type": "execute_result",
          "data": {
            "text/plain": [
              "array([28.64298148, 33.82640557, 29.65686506, 28.57483218, 30.17390703,\n",
              "       27.20927164, 33.36355114, 27.15474039, 29.34457533, 31.95865217,\n",
              "       31.18938527, 31.39499836, 31.31563331, 31.31563331, 28.96133658,\n",
              "       31.40536052, 32.36497424, 28.63638393, 29.8530451 , 25.95684028,\n",
              "       28.40562018, 34.35435075, 31.73243386, 28.73666868, 30.77792601,\n",
              "       30.58139559, 31.23672916, 31.54782723, 28.91652505, 31.68956206,\n",
              "       33.73682234, 31.31563331, 30.82956964, 29.60693766, 27.13296542,\n",
              "       28.86963151, 30.02406642, 33.79127576, 27.12126488, 26.97934524,\n",
              "       28.79798309, 28.83028741, 29.61853532, 29.41295421, 28.43936693,\n",
              "       28.67969542, 27.82341317, 27.14427083, 34.63985936, 33.21049624,\n",
              "       28.89409145, 27.28605242, 29.46936462, 31.2574392 , 31.31191609,\n",
              "       30.00711938, 30.11458748, 29.9780508 , 29.09399583, 30.80901975,\n",
              "       28.61616028, 29.52370771, 34.21336411, 28.29548389, 28.34581288,\n",
              "       32.00967045, 28.36024087, 28.6483896 , 31.79555396, 29.56037156,\n",
              "       28.46532085, 28.44787547, 31.93393258, 27.62380763, 28.7927714 ,\n",
              "       30.83235916, 29.58280019, 31.30387617, 31.35636587, 28.19123425,\n",
              "       29.86162362, 28.54473463, 29.73003551, 28.81741926, 28.42583661,\n",
              "       27.05755823, 30.03600973, 29.64529505, 28.36028255, 30.90510959,\n",
              "       33.07824316, 29.79277274, 29.42437721, 32.7681038 , 30.39958396,\n",
              "       25.10416667, 31.17351869, 28.62660939, 28.00042194, 31.42698999,\n",
              "       31.18139253, 28.14879008, 31.04785198, 29.15615651, 29.69978254,\n",
              "       30.54001004, 30.80663532, 31.6296733 , 28.99451861, 30.67835428,\n",
              "       31.44557659, 28.44787547, 31.38825867, 28.85      , 28.22014277,\n",
              "       29.78055812, 29.33156732, 32.76232091, 32.58287829, 29.46362111,\n",
              "       28.37025851, 30.4692513 , 31.7768755 , 33.16424612, 26.88897772,\n",
              "       31.30387617, 26.2241369 , 27.94284102, 31.28790392, 29.01360211,\n",
              "       26.81383433, 28.6195947 , 31.80814577, 26.66553571, 27.33949275,\n",
              "       28.51543809, 28.76053632, 31.23000349, 27.64366611, 31.32879282,\n",
              "       27.73463158, 28.81365277, 30.38413525, 28.61290641, 27.4259383 ,\n",
              "       31.45421341, 31.13853991, 29.59430705, 26.26621528, 30.09887904,\n",
              "       29.52678338, 29.31590909, 31.36199112, 33.38771024, 31.5644105 ,\n",
              "       29.42629869, 27.15016761, 28.40383064, 31.20106499, 26.25732143,\n",
              "       30.15224036, 30.48249456, 28.70776906, 27.51885508, 28.8671754 ,\n",
              "       26.63375   , 33.2197621 , 28.51543809, 32.91892829, 34.15354727,\n",
              "       27.16813854, 30.78095068, 28.76269753, 30.38853819, 31.01545068,\n",
              "       30.21352634, 31.13853991, 29.56977305, 29.26125681, 29.82778095,\n",
              "       29.09399583, 28.55633541, 31.12952236, 29.22878562, 35.02952381,\n",
              "       28.61608587, 31.36169661, 30.39958396, 28.52951389, 27.20927164,\n",
              "       33.90348214, 28.79820916, 30.2397825 , 29.61749824, 31.79755012,\n",
              "       29.74020833, 28.14007047, 31.5644105 , 29.32709715, 32.5823169 ,\n",
              "       32.25009316, 31.19592735, 30.82688935, 29.22457817, 27.87529651,\n",
              "       30.13594456, 29.58280019, 27.19427083, 27.82771724, 29.58289675,\n",
              "       28.80717463, 31.28535901, 30.84153352, 27.19427083, 35.29541667,\n",
              "       29.58280019, 31.57360104, 32.66179383, 29.07800374, 33.74692756,\n",
              "       30.7391969 , 34.61506543, 29.55445835, 30.65569143, 29.55522044,\n",
              "       29.09438395, 30.58070989, 30.22370997, 29.01800593, 30.25522246,\n",
              "       29.6638501 , 30.53769415, 32.77690024, 32.91892829, 28.6191109 ,\n",
              "       29.55445835, 25.0696875 , 27.20927164, 30.05267295, 28.67427047,\n",
              "       30.06306928, 29.79843212, 28.57742058, 26.2241369 , 31.31279545,\n",
              "       31.3272347 , 27.990625  , 31.46569759, 29.61749824, 33.21049624,\n",
              "       30.68140912, 28.77545649, 34.33946429, 32.0720543 , 30.75285585,\n",
              "       29.6941395 , 32.10182818, 29.53761215, 31.11326356, 28.51543809,\n",
              "       35.38363095, 28.55633541, 30.82202354, 28.34270082, 27.13976061,\n",
              "       28.40562018, 29.62081594, 27.21914367, 28.51543809, 35.43321429,\n",
              "       26.11369048, 30.8070667 , 28.6483896 , 29.08882066, 27.41214369,\n",
              "       31.09030977, 29.51621442, 30.85040653, 28.34020833, 27.43210227,\n",
              "       29.62002392, 31.11326356, 33.01850396, 25.18541667, 28.6665792 ,\n",
              "       30.75285585, 30.2650678 , 29.93586218, 30.75374444, 32.66715392,\n",
              "       31.31405719, 27.1502368 , 29.46936462, 27.75855673, 31.37725223,\n",
              "       26.16045512, 29.22729167, 31.10869472, 26.11369048, 28.76520236,\n",
              "       28.91210584, 29.70731081, 25.775     , 29.56977305, 32.43198743,\n",
              "       28.81261516, 29.60834245, 32.78359578, 29.04507796, 28.64298148,\n",
              "       27.92708333, 27.51885508, 30.11458748, 28.83028741, 31.90197212,\n",
              "       31.37725223, 28.87594155, 30.02360558, 29.01360211, 30.37111965,\n",
              "       29.62783333, 31.42698999, 29.50720016, 28.60757372, 33.01264742,\n",
              "       27.4259383 , 33.2984554 , 30.03391348, 31.31405719, 28.80788721,\n",
              "       29.07575802, 31.30387617, 30.91049742, 29.05101546, 28.4999562 ,\n",
              "       28.80788721, 28.61115028, 29.22298634, 30.22370997, 27.53491071,\n",
              "       29.55904073, 31.31191609, 30.27554727, 31.15896291, 32.65745154,\n",
              "       32.33890647, 33.32053439, 28.64298148, 29.27166667, 30.12522184,\n",
              "       30.15801123, 28.1440558 , 32.66715392, 29.32709715, 29.56977305,\n",
              "       30.39632123, 29.22079212, 28.81813086, 31.51125591, 29.48664295,\n",
              "       30.12396239, 27.62069895, 31.31563331, 26.25732143, 29.78190239,\n",
              "       30.88110628, 27.96538338, 31.46569759, 30.26865715, 29.58732731,\n",
              "       30.73128023, 28.18877019, 31.36199112, 31.25549556, 28.35382609,\n",
              "       32.78359578, 29.5901728 , 29.73271896, 28.29472723, 26.22098136,\n",
              "       31.00879284, 30.98477272, 29.341707  , 31.03439209, 28.17926188,\n",
              "       28.82720318, 34.32411706])"
            ]
          },
          "metadata": {
            "tags": []
          },
          "execution_count": 25
        }
      ]
    },
    {
      "cell_type": "code",
      "metadata": {
        "id": "43MZurLI1pJo",
        "colab_type": "code",
        "colab": {
          "base_uri": "https://localhost:8080/",
          "height": 218
        },
        "outputId": "8f4b7426-81da-4114-9620-8aec9a803d4c"
      },
      "source": [
        "y_test"
      ],
      "execution_count": 27,
      "outputs": [
        {
          "output_type": "execute_result",
          "data": {
            "text/plain": [
              "1277    29.0\n",
              "1502    33.0\n",
              "645     30.0\n",
              "1489    28.0\n",
              "2239    30.0\n",
              "        ... \n",
              "351     28.0\n",
              "274     32.0\n",
              "510     29.0\n",
              "601     31.0\n",
              "1786    32.0\n",
              "Name: age_of_marriage, Length: 387, dtype: float64"
            ]
          },
          "metadata": {
            "tags": []
          },
          "execution_count": 27
        }
      ]
    },
    {
      "cell_type": "code",
      "metadata": {
        "id": "3SCB67fv2ACr",
        "colab_type": "code",
        "colab": {
          "base_uri": "https://localhost:8080/",
          "height": 50
        },
        "outputId": "583fa150-cdaf-4b7c-b3c6-44c64f84d782"
      },
      "source": [
        "from sklearn.metrics import mean_absolute_error, r2_score\n",
        "print(\"MAE : \", mean_absolute_error(y_test,y_predict))\n",
        "r2_score(y_test,y_predict)"
      ],
      "execution_count": 29,
      "outputs": [
        {
          "output_type": "stream",
          "text": [
            "MAE :  1.0391761467360092\n"
          ],
          "name": "stdout"
        },
        {
          "output_type": "execute_result",
          "data": {
            "text/plain": [
              "0.6962824751634216"
            ]
          },
          "metadata": {
            "tags": []
          },
          "execution_count": 29
        }
      ]
    },
    {
      "cell_type": "code",
      "metadata": {
        "id": "nMoKrsEH2jp7",
        "colab_type": "code",
        "colab": {
          "base_uri": "https://localhost:8080/",
          "height": 87
        },
        "outputId": "46568a72-e48e-4175-a747-7184721473e0"
      },
      "source": [
        "from sklearn.externals import joblib\n",
        "joblib.dump(model,'marriage_age_predict_model.pkl')"
      ],
      "execution_count": 30,
      "outputs": [
        {
          "output_type": "stream",
          "text": [
            "/usr/local/lib/python3.6/dist-packages/sklearn/externals/joblib/__init__.py:15: FutureWarning: sklearn.externals.joblib is deprecated in 0.21 and will be removed in 0.23. Please import this functionality directly from joblib, which can be installed with: pip install joblib. If this warning is raised when loading pickled models, you may need to re-serialize those models with scikit-learn 0.21+.\n",
            "  warnings.warn(msg, category=FutureWarning)\n"
          ],
          "name": "stderr"
        },
        {
          "output_type": "execute_result",
          "data": {
            "text/plain": [
              "['marriage_age_predict_model.pkl']"
            ]
          },
          "metadata": {
            "tags": []
          },
          "execution_count": 30
        }
      ]
    },
    {
      "cell_type": "code",
      "metadata": {
        "id": "tQpywntR3ZBF",
        "colab_type": "code",
        "colab": {}
      },
      "source": [
        ""
      ],
      "execution_count": null,
      "outputs": []
    }
  ]
}